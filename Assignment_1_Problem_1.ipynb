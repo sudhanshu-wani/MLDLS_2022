{
  "nbformat": 4,
  "nbformat_minor": 0,
  "metadata": {
    "colab": {
      "name": "Assignment_1-Problem_1.ipynb",
      "provenance": [],
      "authorship_tag": "ABX9TyMxaxAGgKDbmsXqfSfi7I+B",
      "include_colab_link": true
    },
    "kernelspec": {
      "name": "python3",
      "display_name": "Python 3"
    },
    "language_info": {
      "name": "python"
    }
  },
  "cells": [
    {
      "cell_type": "markdown",
      "metadata": {
        "id": "view-in-github",
        "colab_type": "text"
      },
      "source": [
        "<a href=\"https://colab.research.google.com/github/sudhanshu-wani/MLDLS_2022/blob/main/Assignment_1_Problem_1.ipynb\" target=\"_parent\"><img src=\"https://colab.research.google.com/assets/colab-badge.svg\" alt=\"Open In Colab\"/></a>"
      ]
    },
    {
      "cell_type": "markdown",
      "source": [
        "Problem 1: Relation between BMI and Cost of Insurance"
      ],
      "metadata": {
        "id": "D9rl8c_I2GPE"
      }
    },
    {
      "cell_type": "code",
      "execution_count": 1,
      "metadata": {
        "id": "SyLN_EAvxDG0"
      },
      "outputs": [],
      "source": [
        "#importing libraries\n",
        "import numpy as np\n",
        "import pandas as pd\n",
        "import matplotlib.pyplot as plt"
      ]
    },
    {
      "cell_type": "code",
      "source": [
        "#loading the dataset\n",
        "df= pd.read_csv('insurance.csv')"
      ],
      "metadata": {
        "id": "X0PnhLx3xWT8"
      },
      "execution_count": 15,
      "outputs": []
    },
    {
      "cell_type": "code",
      "source": [
        "print(df.tail())"
      ],
      "metadata": {
        "colab": {
          "base_uri": "https://localhost:8080/"
        },
        "id": "8RgqJ9yExZed",
        "outputId": "c7f972ab-3dd2-4433-9175-f7a413c8a683"
      },
      "execution_count": 16,
      "outputs": [
        {
          "output_type": "stream",
          "name": "stdout",
          "text": [
            "        bmi     charges\n",
            "1333  30.97  10600.5483\n",
            "1334  31.92   2205.9808\n",
            "1335  36.85   1629.8335\n",
            "1336  25.80   2007.9450\n",
            "1337  29.07  29141.3603\n"
          ]
        }
      ]
    },
    {
      "cell_type": "code",
      "source": [
        "X= df.iloc[:,0].values\n",
        "Y= df.iloc[:,1].values"
      ],
      "metadata": {
        "id": "TANofe96xbdz"
      },
      "execution_count": 93,
      "outputs": []
    },
    {
      "cell_type": "code",
      "source": [
        "plt.scatter(X, Y)\n",
        "plt.title('X Vs Y')\n",
        "plt.xlabel('BMI', fontsize=12)\n",
        "plt.ylabel('Cost', fontsize=12)\n",
        "plt.show()"
      ],
      "metadata": {
        "colab": {
          "base_uri": "https://localhost:8080/",
          "height": 298
        },
        "id": "NyN-MIIExdEt",
        "outputId": "1f5bb9b3-9b54-43f9-f9d5-e84bbff6b6ce"
      },
      "execution_count": 94,
      "outputs": [
        {
          "output_type": "display_data",
          "data": {
            "text/plain": [
              "<Figure size 432x288 with 1 Axes>"
            ],
            "image/png": "[encoded data removed]"
          },
          "metadata": {
            "needs_background": "light"
          }
        }
      ]
    },
    {
      "cell_type": "code",
      "source": [
        "from sklearn.model_selection import train_test_split\n",
        "X_train, X_test, y_train, y_test = train_test_split(X, Y, test_size=0.1, random_state=42)"
      ],
      "metadata": {
        "id": "zTt3BVskxks9"
      },
      "execution_count": 96,
      "outputs": []
    },
    {
      "cell_type": "code",
      "source": [
        "#Fitting Simple Linear Regression \n",
        "#This is called Model \n",
        "from sklearn.linear_model import LinearRegression\n",
        "regressor= LinearRegression()\n",
        "regressor.fit(X_train.reshape(-1, 1), y_train.reshape(-1, 1))"
      ],
      "metadata": {
        "colab": {
          "base_uri": "https://localhost:8080/"
        },
        "id": "5-1cwV4Qxyjs",
        "outputId": "9517825d-76e7-4949-8208-526e9a4bc610"
      },
      "execution_count": 97,
      "outputs": [
        {
          "output_type": "execute_result",
          "data": {
            "text/plain": [
              "LinearRegression()"
            ]
          },
          "metadata": {},
          "execution_count": 97
        }
      ]
    },
    {
      "cell_type": "code",
      "source": [
        "pred = regressor.predict(X_test.reshape(-1,1))"
      ],
      "metadata": {
        "id": "phNf1TuUx054"
      },
      "execution_count": 98,
      "outputs": []
    },
    {
      "cell_type": "code",
      "source": [
        "# Generate a plot like the one in the previous exercise\n",
        "plt.scatter(X_test, y_test)\n",
        "plt.plot(X_test, pred)\n",
        "plt.title('X vs Y')\n",
        "plt.xlabel('COST', fontsize=12)\n",
        "plt.ylabel('BMI', fontsize=12)\n",
        "plt.show()\n"
      ],
      "metadata": {
        "colab": {
          "base_uri": "https://localhost:8080/",
          "height": 298
        },
        "id": "8FUAQKb-x4EG",
        "outputId": "fd04e332-590b-4338-fe23-00e83d86d60a"
      },
      "execution_count": 99,
      "outputs": [
        {
          "output_type": "display_data",
          "data": {
            "text/plain": [
              "<Figure size 432x288 with 1 Axes>"
            ],
            "image/png": "[encoded data removed]"
          },
          "metadata": {
            "needs_background": "light"
          }
        }
      ]
    },
    {
      "cell_type": "code",
      "source": [
        "print(' y = {0} * x + {1}'.format(regressor.coef_[0], regressor.intercept_))"
      ],
      "metadata": {
        "colab": {
          "base_uri": "https://localhost:8080/"
        },
        "id": "NVWYpoOax-Cw",
        "outputId": "d5ff5cd6-d5cb-490d-ad0a-77ed08077b93"
      },
      "execution_count": 100,
      "outputs": [
        {
          "output_type": "stream",
          "name": "stdout",
          "text": [
            " y = [397.69749616] * x + [1167.45634913]\n"
          ]
        }
      ]
    },
    {
      "cell_type": "code",
      "source": [
        "regressor.predict([[12]])#put the BMI of the patient and it will predict the approx cost of the insurance"
      ],
      "metadata": {
        "colab": {
          "base_uri": "https://localhost:8080/"
        },
        "id": "rTrmjW6wy8c7",
        "outputId": "bd4a2738-0773-4ad2-9f34-5103159b1786"
      },
      "execution_count": 101,
      "outputs": [
        {
          "output_type": "execute_result",
          "data": {
            "text/plain": [
              "array([[5939.82630302]])"
            ]
          },
          "metadata": {},
          "execution_count": 101
        }
      ]
    },
    {
      "cell_type": "code",
      "source": [
        "regressor.coef_"
      ],
      "metadata": {
        "colab": {
          "base_uri": "https://localhost:8080/"
        },
        "id": "nwm-IgGZy-eg",
        "outputId": "916c5023-d49f-45e4-c108-27c012f5e2c6"
      },
      "execution_count": 102,
      "outputs": [
        {
          "output_type": "execute_result",
          "data": {
            "text/plain": [
              "array([[397.69749616]])"
            ]
          },
          "metadata": {},
          "execution_count": 102
        }
      ]
    },
    {
      "cell_type": "code",
      "source": [
        "regressor.intercept_"
      ],
      "metadata": {
        "colab": {
          "base_uri": "https://localhost:8080/"
        },
        "id": "om2PHPaZzAx6",
        "outputId": "5c3f1fd6-5c36-4799-b009-e0217e5868d8"
      },
      "execution_count": 103,
      "outputs": [
        {
          "output_type": "execute_result",
          "data": {
            "text/plain": [
              "array([1167.45634913])"
            ]
          },
          "metadata": {},
          "execution_count": 103
        }
      ]
    },
    {
      "cell_type": "code",
      "source": [
        "def model(x):\n",
        "  y= (regressor.coef_) + (regressor.intercept_)\n",
        "  return(y)"
      ],
      "metadata": {
        "id": "71bTTqfHzCce"
      },
      "execution_count": 104,
      "outputs": []
    },
    {
      "cell_type": "code",
      "source": [
        ""
      ],
      "metadata": {
        "id": "7kg-mPnvzERs"
      },
      "execution_count": null,
      "outputs": []
    }
  ]
}