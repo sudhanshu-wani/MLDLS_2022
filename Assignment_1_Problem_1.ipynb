{
  "nbformat": 4,
  "nbformat_minor": 0,
  "metadata": {
    "colab": {
      "name": "Assignment_1-Problem_1.ipynb",
      "provenance": [],
      "authorship_tag": "ABX9TyNxOcCmQ409E75Pbf0wPX71",
      "include_colab_link": true
    },
    "kernelspec": {
      "name": "python3",
      "display_name": "Python 3"
    },
    "language_info": {
      "name": "python"
    }
  },
  "cells": [
    {
      "cell_type": "markdown",
      "metadata": {
        "id": "view-in-github",
        "colab_type": "text"
      },
      "source": [
        "<a href=\"https://colab.research.google.com/github/sudhanshu-wani/MLDLS_2022/blob/main/Assignment_1_Problem_1.ipynb\" target=\"_parent\"><img src=\"https://colab.research.google.com/assets/colab-badge.svg\" alt=\"Open In Colab\"/></a>"
      ]
    },
    {
      "cell_type": "markdown",
      "source": [
        "Problem 1: Relation between BMI and Cost of Insurance"
      ],
      "metadata": {
        "id": "D9rl8c_I2GPE"
      }
    },
    {
      "cell_type": "code",
      "execution_count": 1,
      "metadata": {
        "id": "SyLN_EAvxDG0"
      },
      "outputs": [],
      "source": [
        "#importing libraries\n",
        "import numpy as np\n",
        "import pandas as pd\n",
        "import matplotlib.pyplot as plt"
      ]
    },
    {
      "cell_type": "code",
      "source": [
        "#loading the dataset\n",
        "df= pd.read_csv('insurance.csv')"
      ],
      "metadata": {
        "id": "X0PnhLx3xWT8"
      },
      "execution_count": 15,
      "outputs": []
    },
    {
      "cell_type": "code",
      "source": [
        "print(df.tail())"
      ],
      "metadata": {
        "colab": {
          "base_uri": "https://localhost:8080/"
        },
        "id": "8RgqJ9yExZed",
        "outputId": "c7f972ab-3dd2-4433-9175-f7a413c8a683"
      },
      "execution_count": 16,
      "outputs": [
        {
          "output_type": "stream",
          "name": "stdout",
          "text": [
            "        bmi     charges\n",
            "1333  30.97  10600.5483\n",
            "1334  31.92   2205.9808\n",
            "1335  36.85   1629.8335\n",
            "1336  25.80   2007.9450\n",
            "1337  29.07  29141.3603\n"
          ]
        }
      ]
    },
    {
      "cell_type": "code",
      "source": [
        "X= df.iloc[:,0].values[:150]\n",
        "Y= df.iloc[:,1].values[:150]"
      ],
      "metadata": {
        "id": "TANofe96xbdz"
      },
      "execution_count": 76,
      "outputs": []
    },
    {
      "cell_type": "code",
      "source": [
        "plt.scatter(X, Y)\n",
        "plt.title('X Vs Y')\n",
        "plt.xlabel('BMI', fontsize=12)\n",
        "plt.ylabel('Cost', fontsize=12)\n",
        "plt.show()"
      ],
      "metadata": {
        "colab": {
          "base_uri": "https://localhost:8080/",
          "height": 298
        },
        "id": "NyN-MIIExdEt",
        "outputId": "a09289ab-8355-4661-bc40-38036b0c0e2b"
      },
      "execution_count": 80,
      "outputs": [
        {
          "output_type": "display_data",
          "data": {
            "text/plain": [
              "<Figure size 432x288 with 1 Axes>"
            ],
            "image/png": "[encoded data removed]"
          },
          "metadata": {
            "needs_background": "light"
          }
        }
      ]
    },
    {
      "cell_type": "code",
      "source": [
        "from sklearn.model_selection import train_test_split\n",
        "X_train, X_test, y_train, y_test = train_test_split(X, Y, test_size=0.2, random_state=42)"
      ],
      "metadata": {
        "id": "zTt3BVskxks9"
      },
      "execution_count": 81,
      "outputs": []
    },
    {
      "cell_type": "code",
      "source": [
        "#Fitting Simple Linear Regression \n",
        "#This is called Model \n",
        "from sklearn.linear_model import LinearRegression\n",
        "regressor= LinearRegression()\n",
        "regressor.fit(X_train.reshape(-1, 1), y_train.reshape(-1, 1))"
      ],
      "metadata": {
        "colab": {
          "base_uri": "https://localhost:8080/"
        },
        "id": "5-1cwV4Qxyjs",
        "outputId": "ca318c9d-b57b-44b2-a6cc-110fa001904a"
      },
      "execution_count": 82,
      "outputs": [
        {
          "output_type": "execute_result",
          "data": {
            "text/plain": [
              "LinearRegression()"
            ]
          },
          "metadata": {},
          "execution_count": 82
        }
      ]
    },
    {
      "cell_type": "code",
      "source": [
        "pred = regressor.predict(X_test.reshape(-1,1))"
      ],
      "metadata": {
        "id": "phNf1TuUx054"
      },
      "execution_count": 83,
      "outputs": []
    },
    {
      "cell_type": "code",
      "source": [
        "# Generate a plot like the one in the previous exercise\n",
        "plt.scatter(X_test, y_test)\n",
        "plt.plot(X_test, pred)\n",
        "plt.title('X vs Y')\n",
        "plt.xlabel('COST', fontsize=12)\n",
        "plt.ylabel('BMI', fontsize=12)\n",
        "plt.show()\n"
      ],
      "metadata": {
        "colab": {
          "base_uri": "https://localhost:8080/",
          "height": 298
        },
        "id": "8FUAQKb-x4EG",
        "outputId": "d0102a9d-d43a-4631-86d3-b7f3076d61ed"
      },
      "execution_count": 84,
      "outputs": [
        {
          "output_type": "display_data",
          "data": {
            "text/plain": [
              "<Figure size 432x288 with 1 Axes>"
            ],
            "image/png": "[encoded data removed]"
          },
          "metadata": {
            "needs_background": "light"
          }
        }
      ]
    },
    {
      "cell_type": "code",
      "source": [
        "print(' y = {0} * x + {1}'.format(regressor.coef_[0], regressor.intercept_))"
      ],
      "metadata": {
        "colab": {
          "base_uri": "https://localhost:8080/"
        },
        "id": "NVWYpoOax-Cw",
        "outputId": "5155a379-9e17-4c7b-b357-3bf21606fc69"
      },
      "execution_count": 85,
      "outputs": [
        {
          "output_type": "stream",
          "name": "stdout",
          "text": [
            " y = [290.74017787] * x + [4466.41113046]\n"
          ]
        }
      ]
    },
    {
      "cell_type": "code",
      "source": [
        "regressor.predict([[12]])#put the BMI of the patient and it will predict the approx cost of the insurance"
      ],
      "metadata": {
        "colab": {
          "base_uri": "https://localhost:8080/"
        },
        "id": "rTrmjW6wy8c7",
        "outputId": "a32bcd67-dd33-433f-8c53-ab2a5ef3c08f"
      },
      "execution_count": 89,
      "outputs": [
        {
          "output_type": "execute_result",
          "data": {
            "text/plain": [
              "array([[7955.29326491]])"
            ]
          },
          "metadata": {},
          "execution_count": 89
        }
      ]
    },
    {
      "cell_type": "code",
      "source": [
        "regressor.coef_"
      ],
      "metadata": {
        "colab": {
          "base_uri": "https://localhost:8080/"
        },
        "id": "nwm-IgGZy-eg",
        "outputId": "3d2fec11-8b6f-4055-b317-e8ac4666670d"
      },
      "execution_count": 90,
      "outputs": [
        {
          "output_type": "execute_result",
          "data": {
            "text/plain": [
              "array([[290.74017787]])"
            ]
          },
          "metadata": {},
          "execution_count": 90
        }
      ]
    },
    {
      "cell_type": "code",
      "source": [
        "regressor.intercept_"
      ],
      "metadata": {
        "colab": {
          "base_uri": "https://localhost:8080/"
        },
        "id": "om2PHPaZzAx6",
        "outputId": "c7b71729-a8ac-4ebd-c321-1028bb782ea9"
      },
      "execution_count": 91,
      "outputs": [
        {
          "output_type": "execute_result",
          "data": {
            "text/plain": [
              "array([4466.41113046])"
            ]
          },
          "metadata": {},
          "execution_count": 91
        }
      ]
    },
    {
      "cell_type": "code",
      "source": [
        "def model(x):\n",
        "  y= (regressor.coef_) + (regressor.intercept_)\n",
        "  return(y)"
      ],
      "metadata": {
        "id": "71bTTqfHzCce"
      },
      "execution_count": 92,
      "outputs": []
    },
    {
      "cell_type": "code",
      "source": [
        ""
      ],
      "metadata": {
        "id": "7kg-mPnvzERs"
      },
      "execution_count": null,
      "outputs": []
    }
  ]
}